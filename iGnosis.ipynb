{
 "cells": [
  {
   "cell_type": "code",
   "execution_count": 1,
   "id": "fb3374cc",
   "metadata": {},
   "outputs": [],
   "source": [
    "import pandas as pd\n",
    "\n",
    "# Loading the datasets\n",
    "purch_data = pd.read_csv('purchase_behaviour.csv')\n",
    "trans_data = pd.read_csv('transaction_data.csv')"
   ]
  },
  {
   "cell_type": "markdown",
   "id": "f0ebdb14",
   "metadata": {},
   "source": [
    "### Purchase Data Analysis"
   ]
  },
  {
   "cell_type": "code",
   "execution_count": 2,
   "id": "83df86c4",
   "metadata": {},
   "outputs": [
    {
     "name": "stdout",
     "output_type": "stream",
     "text": [
      "<class 'pandas.core.frame.DataFrame'>\n",
      "RangeIndex: 72637 entries, 0 to 72636\n",
      "Data columns (total 3 columns):\n",
      " #   Column            Non-Null Count  Dtype \n",
      "---  ------            --------------  ----- \n",
      " 0   LYLTY_CARD_NBR    72637 non-null  int64 \n",
      " 1   LIFESTAGE         72637 non-null  object\n",
      " 2   PREMIUM_CUSTOMER  72637 non-null  object\n",
      "dtypes: int64(1), object(2)\n",
      "memory usage: 1.7+ MB\n"
     ]
    }
   ],
   "source": [
    "purch_data.info()"
   ]
  },
  {
   "cell_type": "code",
   "execution_count": 3,
   "id": "ec9c52d3",
   "metadata": {},
   "outputs": [
    {
     "name": "stdout",
     "output_type": "stream",
     "text": [
      "\n",
      "Missing Values:\n",
      "LYLTY_CARD_NBR      0\n",
      "LIFESTAGE           0\n",
      "PREMIUM_CUSTOMER    0\n",
      "dtype: int64\n"
     ]
    }
   ],
   "source": [
    "print(\"\\nMissing Values:\")\n",
    "print(purch_data.isnull().sum())"
   ]
  },
  {
   "cell_type": "code",
   "execution_count": 4,
   "id": "99aa6762",
   "metadata": {},
   "outputs": [
    {
     "name": "stdout",
     "output_type": "stream",
     "text": [
      "Unique values in 'LIFESTAGE':\n",
      "['YOUNG SINGLES/COUPLES' 'YOUNG FAMILIES' 'OLDER SINGLES/COUPLES'\n",
      " 'MIDAGE SINGLES/COUPLES' 'NEW FAMILIES' 'OLDER FAMILIES' 'RETIREES']\n"
     ]
    }
   ],
   "source": [
    "print(\"Unique values in 'LIFESTAGE':\")\n",
    "print(purch_data['LIFESTAGE'].unique())"
   ]
  },
  {
   "cell_type": "code",
   "execution_count": 5,
   "id": "a04c45c3",
   "metadata": {
    "scrolled": true
   },
   "outputs": [
    {
     "name": "stdout",
     "output_type": "stream",
     "text": [
      "\n",
      "Distribution of LIFESTAGE:\n",
      "RETIREES                  14805\n",
      "OLDER SINGLES/COUPLES     14609\n",
      "YOUNG SINGLES/COUPLES     14441\n",
      "OLDER FAMILIES             9780\n",
      "YOUNG FAMILIES             9178\n",
      "MIDAGE SINGLES/COUPLES     7275\n",
      "NEW FAMILIES               2549\n",
      "Name: LIFESTAGE, dtype: int64\n"
     ]
    }
   ],
   "source": [
    "print(\"\\nDistribution of LIFESTAGE:\")\n",
    "print(purch_data['LIFESTAGE'].value_counts())"
   ]
  },
  {
   "cell_type": "code",
   "execution_count": 6,
   "id": "367ee23e",
   "metadata": {},
   "outputs": [
    {
     "name": "stdout",
     "output_type": "stream",
     "text": [
      "\n",
      "Unique values in 'PREMIUM_CUSTOMER':\n",
      "['Premium' 'Mainstream' 'Budget']\n"
     ]
    }
   ],
   "source": [
    "print(\"\\nUnique values in 'PREMIUM_CUSTOMER':\")\n",
    "print(purch_data['PREMIUM_CUSTOMER'].unique())"
   ]
  },
  {
   "cell_type": "code",
   "execution_count": 7,
   "id": "f1f8f218",
   "metadata": {},
   "outputs": [
    {
     "name": "stdout",
     "output_type": "stream",
     "text": [
      "\n",
      "Distribution of PREMIUM_CUSTOMER:\n",
      "Mainstream    29245\n",
      "Budget        24470\n",
      "Premium       18922\n",
      "Name: PREMIUM_CUSTOMER, dtype: int64\n"
     ]
    }
   ],
   "source": [
    "print(\"\\nDistribution of PREMIUM_CUSTOMER:\")\n",
    "print(purch_data['PREMIUM_CUSTOMER'].value_counts())"
   ]
  },
  {
   "cell_type": "markdown",
   "id": "d9ff4930",
   "metadata": {},
   "source": [
    "### Transaction Data anlaysis"
   ]
  },
  {
   "cell_type": "code",
   "execution_count": 8,
   "id": "eaf620b9",
   "metadata": {},
   "outputs": [
    {
     "name": "stdout",
     "output_type": "stream",
     "text": [
      "<class 'pandas.core.frame.DataFrame'>\n",
      "RangeIndex: 264836 entries, 0 to 264835\n",
      "Data columns (total 8 columns):\n",
      " #   Column          Non-Null Count   Dtype  \n",
      "---  ------          --------------   -----  \n",
      " 0   DATE            264836 non-null  int64  \n",
      " 1   STORE_NBR       264836 non-null  int64  \n",
      " 2   LYLTY_CARD_NBR  264836 non-null  int64  \n",
      " 3   TXN_ID          264836 non-null  int64  \n",
      " 4   PROD_NBR        264836 non-null  int64  \n",
      " 5   PROD_NAME       264836 non-null  object \n",
      " 6   PROD_QTY        264836 non-null  int64  \n",
      " 7   TOT_SALES       264836 non-null  float64\n",
      "dtypes: float64(1), int64(6), object(1)\n",
      "memory usage: 16.2+ MB\n",
      "None\n"
     ]
    }
   ],
   "source": [
    "print(trans_data.info())"
   ]
  },
  {
   "cell_type": "code",
   "execution_count": 9,
   "id": "9f402a6f",
   "metadata": {},
   "outputs": [
    {
     "name": "stdout",
     "output_type": "stream",
     "text": [
      "\n",
      "Missing Values:\n",
      "DATE              0\n",
      "STORE_NBR         0\n",
      "LYLTY_CARD_NBR    0\n",
      "TXN_ID            0\n",
      "PROD_NBR          0\n",
      "PROD_NAME         0\n",
      "PROD_QTY          0\n",
      "TOT_SALES         0\n",
      "dtype: int64\n"
     ]
    }
   ],
   "source": [
    "print(\"\\nMissing Values:\")\n",
    "print(trans_data.isnull().sum())"
   ]
  },
  {
   "cell_type": "code",
   "execution_count": 10,
   "id": "e9e67e2e",
   "metadata": {},
   "outputs": [
    {
     "name": "stdout",
     "output_type": "stream",
     "text": [
      "\n",
      " Statistics of Transaction Data:\n",
      "                DATE     STORE_NBR  LYLTY_CARD_NBR        TXN_ID  \\\n",
      "count  264836.000000  264836.00000    2.648360e+05  2.648360e+05   \n",
      "mean    43464.036260     135.08011    1.355495e+05  1.351583e+05   \n",
      "std       105.389282      76.78418    8.057998e+04  7.813303e+04   \n",
      "min     43282.000000       1.00000    1.000000e+03  1.000000e+00   \n",
      "25%     43373.000000      70.00000    7.002100e+04  6.760150e+04   \n",
      "50%     43464.000000     130.00000    1.303575e+05  1.351375e+05   \n",
      "75%     43555.000000     203.00000    2.030942e+05  2.027012e+05   \n",
      "max     43646.000000     272.00000    2.373711e+06  2.415841e+06   \n",
      "\n",
      "            PROD_NBR       PROD_QTY      TOT_SALES  \n",
      "count  264836.000000  264836.000000  264836.000000  \n",
      "mean       56.583157       1.907309       7.304200  \n",
      "std        32.826638       0.643654       3.083226  \n",
      "min         1.000000       1.000000       1.500000  \n",
      "25%        28.000000       2.000000       5.400000  \n",
      "50%        56.000000       2.000000       7.400000  \n",
      "75%        85.000000       2.000000       9.200000  \n",
      "max       114.000000     200.000000     650.000000  \n"
     ]
    }
   ],
   "source": [
    "print(\"\\n Statistics of Transaction Data:\")\n",
    "print(trans_data.describe())"
   ]
  },
  {
   "cell_type": "code",
   "execution_count": 11,
   "id": "82ec2d22",
   "metadata": {},
   "outputs": [
    {
     "name": "stdout",
     "output_type": "stream",
     "text": [
      "\n",
      "Sales Distribution:\n",
      "count    264836.000000\n",
      "mean          7.304200\n",
      "std           3.083226\n",
      "min           1.500000\n",
      "25%           5.400000\n",
      "50%           7.400000\n",
      "75%           9.200000\n",
      "max         650.000000\n",
      "Name: TOT_SALES, dtype: float64\n"
     ]
    }
   ],
   "source": [
    "print(\"\\nSales Distribution:\")\n",
    "print(trans_data['TOT_SALES'].describe())"
   ]
  },
  {
   "cell_type": "code",
   "execution_count": 12,
   "id": "26daa2d1",
   "metadata": {},
   "outputs": [
    {
     "name": "stdout",
     "output_type": "stream",
     "text": [
      "\n",
      " Total unique values in 'PROD_NAME':\n",
      "114\n"
     ]
    }
   ],
   "source": [
    "print(\"\\n Total unique values in 'PROD_NAME':\")\n",
    "print(trans_data['PROD_NAME'].nunique())"
   ]
  },
  {
   "cell_type": "markdown",
   "id": "f904f360",
   "metadata": {},
   "source": [
    "Finding top-selling products"
   ]
  },
  {
   "cell_type": "code",
   "execution_count": 13,
   "id": "6bfc81ee",
   "metadata": {},
   "outputs": [
    {
     "name": "stdout",
     "output_type": "stream",
     "text": [
      "\n",
      "Top 10 Bestselling Products:\n",
      "                                   PROD_NAME  TOT_SALES\n",
      "11          Dorito Corn Chp     Supreme 380g    40352.0\n",
      "86    Smiths Crnkle Chip  Orgnl Big Bag 380g    36367.6\n",
      "77  Smiths Crinkle Chips Salt & Vinegar 330g    34804.2\n",
      "33    Kettle Mozzarella   Basil & Pesto 175g    34457.4\n",
      "76         Smiths Crinkle      Original 330g    34302.6\n",
      "6                       Cheezels Cheese 330g    34296.9\n",
      "12          Doritos Cheese      Supreme 330g    33390.6\n",
      "39   Kettle Sweet Chilli And Sour Cream 175g    33031.8\n",
      "34                      Kettle Original 175g    32740.2\n",
      "35      Kettle Sea Salt     And Vinegar 175g    32589.0\n"
     ]
    }
   ],
   "source": [
    "top_products = trans_data.groupby('PROD_NAME')['TOT_SALES'].sum().reset_index()\n",
    "top_products_sorted = top_products.sort_values(by='TOT_SALES', ascending=False).head(10)\n",
    "\n",
    "print(\"\\nTop 10 Bestselling Products:\")\n",
    "print(top_products_sorted[['PROD_NAME', 'TOT_SALES']])"
   ]
  },
  {
   "cell_type": "markdown",
   "id": "3977ae22",
   "metadata": {},
   "source": [
    "**Merging the datasets based on 'LYLTY_CARD_NBR**"
   ]
  },
  {
   "cell_type": "code",
   "execution_count": 14,
   "id": "1b933576",
   "metadata": {},
   "outputs": [
    {
     "data": {
      "text/html": [
       "<div>\n",
       "<style scoped>\n",
       "    .dataframe tbody tr th:only-of-type {\n",
       "        vertical-align: middle;\n",
       "    }\n",
       "\n",
       "    .dataframe tbody tr th {\n",
       "        vertical-align: top;\n",
       "    }\n",
       "\n",
       "    .dataframe thead th {\n",
       "        text-align: right;\n",
       "    }\n",
       "</style>\n",
       "<table border=\"1\" class=\"dataframe\">\n",
       "  <thead>\n",
       "    <tr style=\"text-align: right;\">\n",
       "      <th></th>\n",
       "      <th>DATE</th>\n",
       "      <th>STORE_NBR</th>\n",
       "      <th>LYLTY_CARD_NBR</th>\n",
       "      <th>TXN_ID</th>\n",
       "      <th>PROD_NBR</th>\n",
       "      <th>PROD_NAME</th>\n",
       "      <th>PROD_QTY</th>\n",
       "      <th>TOT_SALES</th>\n",
       "      <th>LIFESTAGE</th>\n",
       "      <th>PREMIUM_CUSTOMER</th>\n",
       "    </tr>\n",
       "  </thead>\n",
       "  <tbody>\n",
       "    <tr>\n",
       "      <th>0</th>\n",
       "      <td>43390</td>\n",
       "      <td>1</td>\n",
       "      <td>1000</td>\n",
       "      <td>1</td>\n",
       "      <td>5</td>\n",
       "      <td>Natural Chip        Compny SeaSalt175g</td>\n",
       "      <td>2</td>\n",
       "      <td>6.0</td>\n",
       "      <td>YOUNG SINGLES/COUPLES</td>\n",
       "      <td>Premium</td>\n",
       "    </tr>\n",
       "    <tr>\n",
       "      <th>1</th>\n",
       "      <td>43599</td>\n",
       "      <td>1</td>\n",
       "      <td>1307</td>\n",
       "      <td>348</td>\n",
       "      <td>66</td>\n",
       "      <td>CCs Nacho Cheese    175g</td>\n",
       "      <td>3</td>\n",
       "      <td>6.3</td>\n",
       "      <td>MIDAGE SINGLES/COUPLES</td>\n",
       "      <td>Budget</td>\n",
       "    </tr>\n",
       "    <tr>\n",
       "      <th>2</th>\n",
       "      <td>43414</td>\n",
       "      <td>1</td>\n",
       "      <td>1307</td>\n",
       "      <td>346</td>\n",
       "      <td>96</td>\n",
       "      <td>WW Original Stacked Chips 160g</td>\n",
       "      <td>2</td>\n",
       "      <td>3.8</td>\n",
       "      <td>MIDAGE SINGLES/COUPLES</td>\n",
       "      <td>Budget</td>\n",
       "    </tr>\n",
       "    <tr>\n",
       "      <th>3</th>\n",
       "      <td>43533</td>\n",
       "      <td>1</td>\n",
       "      <td>1307</td>\n",
       "      <td>347</td>\n",
       "      <td>54</td>\n",
       "      <td>CCs Original 175g</td>\n",
       "      <td>1</td>\n",
       "      <td>2.1</td>\n",
       "      <td>MIDAGE SINGLES/COUPLES</td>\n",
       "      <td>Budget</td>\n",
       "    </tr>\n",
       "    <tr>\n",
       "      <th>4</th>\n",
       "      <td>43605</td>\n",
       "      <td>1</td>\n",
       "      <td>1343</td>\n",
       "      <td>383</td>\n",
       "      <td>61</td>\n",
       "      <td>Smiths Crinkle Cut  Chips Chicken 170g</td>\n",
       "      <td>2</td>\n",
       "      <td>2.9</td>\n",
       "      <td>MIDAGE SINGLES/COUPLES</td>\n",
       "      <td>Budget</td>\n",
       "    </tr>\n",
       "  </tbody>\n",
       "</table>\n",
       "</div>"
      ],
      "text/plain": [
       "    DATE  STORE_NBR  LYLTY_CARD_NBR  TXN_ID  PROD_NBR  \\\n",
       "0  43390          1            1000       1         5   \n",
       "1  43599          1            1307     348        66   \n",
       "2  43414          1            1307     346        96   \n",
       "3  43533          1            1307     347        54   \n",
       "4  43605          1            1343     383        61   \n",
       "\n",
       "                                PROD_NAME  PROD_QTY  TOT_SALES  \\\n",
       "0  Natural Chip        Compny SeaSalt175g         2        6.0   \n",
       "1                CCs Nacho Cheese    175g         3        6.3   \n",
       "2          WW Original Stacked Chips 160g         2        3.8   \n",
       "3                       CCs Original 175g         1        2.1   \n",
       "4  Smiths Crinkle Cut  Chips Chicken 170g         2        2.9   \n",
       "\n",
       "                LIFESTAGE PREMIUM_CUSTOMER  \n",
       "0   YOUNG SINGLES/COUPLES          Premium  \n",
       "1  MIDAGE SINGLES/COUPLES           Budget  \n",
       "2  MIDAGE SINGLES/COUPLES           Budget  \n",
       "3  MIDAGE SINGLES/COUPLES           Budget  \n",
       "4  MIDAGE SINGLES/COUPLES           Budget  "
      ]
     },
     "execution_count": 14,
     "metadata": {},
     "output_type": "execute_result"
    }
   ],
   "source": [
    "merged_data = pd.merge(trans_data, purch_data, on='LYLTY_CARD_NBR', how='inner')\n",
    "\n",
    "merged_data.head()"
   ]
  },
  {
   "cell_type": "markdown",
   "id": "fdcc78e6",
   "metadata": {},
   "source": [
    "### Displaying top 3 most profitable products"
   ]
  },
  {
   "cell_type": "code",
   "execution_count": 34,
   "id": "a0434cae",
   "metadata": {},
   "outputs": [
    {
     "name": "stdout",
     "output_type": "stream",
     "text": [
      "Top 3 Most Profitable Products:\n",
      "                                   PROD_NAME  TOT_SALES\n",
      "11          Dorito Corn Chp     Supreme 380g    40352.0\n",
      "86    Smiths Crnkle Chip  Orgnl Big Bag 380g    36367.6\n",
      "77  Smiths Crinkle Chips Salt & Vinegar 330g    34804.2\n"
     ]
    }
   ],
   "source": [
    "top_products = merged_data.groupby('PROD_NAME')['TOT_SALES'].sum().reset_index().sort_values(by='TOT_SALES', ascending=False)\n",
    "\n",
    "print(\"Top 3 Most Profitable Products:\")\n",
    "print(top_products.head(3))"
   ]
  },
  {
   "cell_type": "markdown",
   "id": "5e6b1145",
   "metadata": {},
   "source": [
    "**Displaying top PREMIUM_CUSTOMER and Lifestage based on total sales**"
   ]
  },
  {
   "cell_type": "code",
   "execution_count": 18,
   "id": "b711b791",
   "metadata": {},
   "outputs": [
    {
     "name": "stdout",
     "output_type": "stream",
     "text": [
      "\n",
      "Total Sales by LIFESTAGE:\n",
      "                LIFESTAGE  TOT_SALES\n",
      "3   OLDER SINGLES/COUPLES  402426.75\n",
      "4                RETIREES  366470.90\n",
      "2          OLDER FAMILIES  353767.20\n",
      "5          YOUNG FAMILIES  316160.10\n",
      "6   YOUNG SINGLES/COUPLES  260405.30\n",
      "0  MIDAGE SINGLES/COUPLES  184751.30\n",
      "1            NEW FAMILIES   50433.45\n",
      "\n",
      "Total Sales by PREMIUM_CUSTOMER:\n",
      "  PREMIUM_CUSTOMER  TOT_SALES\n",
      "1       Mainstream  750744.50\n",
      "0           Budget  676211.55\n",
      "2          Premium  507458.95\n"
     ]
    }
   ],
   "source": [
    "# Group by 'LIFESTAGE' and calculate total sales for each group\n",
    "loyal_customers_by_lifestage = merged_data.groupby('LIFESTAGE')['TOT_SALES'].sum().reset_index().sort_values(by='TOT_SALES', ascending=False)\n",
    "\n",
    "# Group by 'PREMIUM_CUSTOMER' and calculate total sales for each group\n",
    "loyal_customers_by_premium = merged_data.groupby('PREMIUM_CUSTOMER')['TOT_SALES'].sum().reset_index().sort_values(by='TOT_SALES', ascending=False)\n",
    "\n",
    "# Display results\n",
    "print(\"\\nTotal Sales by LIFESTAGE:\")\n",
    "print(loyal_customers_by_lifestage)\n",
    "\n",
    "print(\"\\nTotal Sales by PREMIUM_CUSTOMER:\")\n",
    "print(loyal_customers_by_premium)\n"
   ]
  },
  {
   "cell_type": "markdown",
   "id": "888793aa",
   "metadata": {},
   "source": [
    "## Key FIndings\n",
    "\n",
    "**1. Spending based on Lifestage**\n",
    "Older customers (Older Singles/Couples, Retirees, Older Families) spend the most.This could be because they have more disposable income, prefer convenience, or choose health-related products.\n",
    "\n",
    "Young Families and Young Singles/Couples also spend a lot, but less than older groups.\n",
    "\n",
    "New Families spend the least, possibly because they are still building their shopping habits or buy fewer expensive items.\n",
    "\n",
    "**2. Spending based on Customer type**\n",
    "Most sales come from Mainstream customers, who likely prefer affordable, good-quality products.\n",
    "\n",
    "Budget customers are also a big group, probably looking for lower prices.\n",
    "\n",
    "Premium customers spend less overall, even though they buy more expensive products. They might be more selective and buy less often."
   ]
  },
  {
   "cell_type": "markdown",
   "id": "e4013d8d",
   "metadata": {},
   "source": [
    "### Product Segmentation by Customer Segment:\n",
    "To analyze which products are most popular among specific customer segments, we'll group the merged dataset by LIFESTAGE and PREMIUM_CUSTOMER and calculate the total sales of each product within these segments"
   ]
  },
  {
   "cell_type": "code",
   "execution_count": 19,
   "id": "6a1604ee",
   "metadata": {},
   "outputs": [
    {
     "name": "stdout",
     "output_type": "stream",
     "text": [
      "Products by Lifestage:\n",
      "                 LIFESTAGE                                 PROD_NAME  \\\n",
      "86  MIDAGE SINGLES/COUPLES    Smiths Crnkle Chip  Orgnl Big Bag 380g   \n",
      "6   MIDAGE SINGLES/COUPLES                      Cheezels Cheese 330g   \n",
      "11  MIDAGE SINGLES/COUPLES          Dorito Corn Chp     Supreme 380g   \n",
      "39  MIDAGE SINGLES/COUPLES   Kettle Sweet Chilli And Sour Cream 175g   \n",
      "33  MIDAGE SINGLES/COUPLES    Kettle Mozzarella   Basil & Pesto 175g   \n",
      "77  MIDAGE SINGLES/COUPLES  Smiths Crinkle Chips Salt & Vinegar 330g   \n",
      "35  MIDAGE SINGLES/COUPLES      Kettle Sea Salt     And Vinegar 175g   \n",
      "34  MIDAGE SINGLES/COUPLES                      Kettle Original 175g   \n",
      "76  MIDAGE SINGLES/COUPLES         Smiths Crinkle      Original 330g   \n",
      "31  MIDAGE SINGLES/COUPLES                        Kettle Chilli 175g   \n",
      "\n",
      "    TOT_SALES  \n",
      "86     3746.5  \n",
      "6      3648.0  \n",
      "11     3646.5  \n",
      "39     3418.2  \n",
      "33     3385.8  \n",
      "77     3351.6  \n",
      "35     3321.0  \n",
      "34     3250.8  \n",
      "76     3249.0  \n",
      "31     3202.2  \n",
      "\n",
      "Products by Premium Customer:\n",
      "   PREMIUM_CUSTOMER                                 PROD_NAME  TOT_SALES\n",
      "11           Budget          Dorito Corn Chp     Supreme 380g   13068.25\n",
      "86           Budget    Smiths Crnkle Chip  Orgnl Big Bag 380g   12384.10\n",
      "33           Budget    Kettle Mozzarella   Basil & Pesto 175g   12241.80\n",
      "77           Budget  Smiths Crinkle Chips Salt & Vinegar 330g   12192.30\n",
      "12           Budget          Doritos Cheese      Supreme 330g   12152.40\n",
      "6            Budget                      Cheezels Cheese 330g   11850.30\n",
      "76           Budget         Smiths Crinkle      Original 330g   11850.30\n",
      "39           Budget   Kettle Sweet Chilli And Sour Cream 175g   11620.80\n",
      "35           Budget      Kettle Sea Salt     And Vinegar 175g   11512.80\n",
      "34           Budget                      Kettle Original 175g   11442.60\n"
     ]
    }
   ],
   "source": [
    "products_by_lifestage = merged_data.groupby(['LIFESTAGE', 'PROD_NAME'])['TOT_SALES'].sum().reset_index()\n",
    "\n",
    "products_by_lifestage_sorted = products_by_lifestage.sort_values(['LIFESTAGE', 'TOT_SALES'], ascending=[True, False])\n",
    "\n",
    "print(\"Products by Lifestage:\")\n",
    "print(products_by_lifestage_sorted.head(10))\n",
    "\n",
    "products_by_premium_customer = merged_data.groupby(['PREMIUM_CUSTOMER', 'PROD_NAME'])['TOT_SALES'].sum().reset_index()\n",
    "\n",
    "products_by_premium_sorted = products_by_premium_customer.sort_values(['PREMIUM_CUSTOMER', 'TOT_SALES'], ascending=[True, False])\n",
    "\n",
    "print(\"\\nProducts by Premium Customer:\")\n",
    "print(products_by_premium_sorted.head(10))\n"
   ]
  },
  {
   "cell_type": "markdown",
   "id": "137c2f9a",
   "metadata": {},
   "source": [
    "## Key Findings from the Data\n",
    "\n",
    "**1.Most Popular Products by Lifestage (Midage Singles/Couples):**\n",
    "The top-selling products for Midage Singles/Couples are mostly snack chips.\n",
    "Smiths Crinkle Chips, Kettle Chips, and Doritos are among the most popular.\n",
    "\n",
    "Larger pack sizes (e.g., 330g, 380g) are preferred, suggesting they may buy in bulk or for group consumption.\n",
    "\n",
    "**2. Most Popular Products by Premium Customer Type (Budget Customers):**\n",
    "Budget customers mainly purchase large-pack chips like Doritos, Smiths Crinkle, and Kettle chips.\n",
    "This group spends the most on snacks despite being price-conscious.\n",
    "They prefer value-for-money products, possibly buying in bulk or choosing larger packs to save money.\n",
    "\n",
    "**Business Takeaways:**\n",
    "Snack brands like Smiths, Kettle, and Doritos dominate sales across customer groups.\n",
    "\n",
    "Larger pack sizes sell better, indicating bulk buying or preference for value-based purchases."
   ]
  },
  {
   "cell_type": "markdown",
   "id": "cef86495",
   "metadata": {},
   "source": [
    "### Customer Retention:\n",
    "To identify repeat customers and analyze their frequency of purchases, we can check how many times each customer (LYLTY_CARD_NBR) appears in the transaction dataset. This will help us understand the loyalty of customers."
   ]
  },
  {
   "cell_type": "code",
   "execution_count": 20,
   "id": "121393e0",
   "metadata": {},
   "outputs": [
    {
     "name": "stdout",
     "output_type": "stream",
     "text": [
      "\n",
      "Top Repeat Customers:\n",
      "       LYLTY_CARD_NBR  TXN_COUNT\n",
      "42813          162039         18\n",
      "45905          172032         18\n",
      "34943          128178         17\n",
      "60925          230078         17\n",
      "31654          116181         17\n",
      "3686            13138         17\n",
      "25958           94185         16\n",
      "6530            23192         16\n",
      "28605          105026         16\n",
      "30744          113080         16\n"
     ]
    }
   ],
   "source": [
    "customer_transactions = merged_data.groupby('LYLTY_CARD_NBR').size().reset_index(name='TXN_COUNT')\n",
    "\n",
    "repeat_customers = customer_transactions[customer_transactions['TXN_COUNT'] > 1]\n",
    "repeat_customers_sorted = repeat_customers.sort_values(by='TXN_COUNT', ascending=False)\n",
    "\n",
    "print(\"\\nTop Repeat Customers:\")\n",
    "print(repeat_customers_sorted.head(10))\n"
   ]
  },
  {
   "cell_type": "markdown",
   "id": "8b7a003f",
   "metadata": {},
   "source": [
    "## Key Findings on Repeat Customers\n",
    "\n",
    "**Most Frequent Shoppers:**\n",
    "The top two customers (162039 & 172032) made 18 purchases each.\n",
    "\n",
    "Several other customers made 16-17 purchases, showing strong repeat buying behavior."
   ]
  },
  {
   "cell_type": "code",
   "execution_count": null,
   "id": "a19e381d",
   "metadata": {},
   "outputs": [],
   "source": []
  }
 ],
 "metadata": {
  "kernelspec": {
   "display_name": "Python 3 (ipykernel)",
   "language": "python",
   "name": "python3"
  },
  "language_info": {
   "codemirror_mode": {
    "name": "ipython",
    "version": 3
   },
   "file_extension": ".py",
   "mimetype": "text/x-python",
   "name": "python",
   "nbconvert_exporter": "python",
   "pygments_lexer": "ipython3",
   "version": "3.11.3"
  }
 },
 "nbformat": 4,
 "nbformat_minor": 5
}
